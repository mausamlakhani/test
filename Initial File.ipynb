{
 "cells": [
  {
   "cell_type": "code",
   "execution_count": 1,
   "id": "8713431c",
   "metadata": {},
   "outputs": [
    {
     "name": "stdout",
     "output_type": "stream",
     "text": [
      "aknsjns\n"
     ]
    }
   ],
   "source": [
    "print(\"aknsjns\")"
   ]
  },
  {
   "cell_type": "code",
   "execution_count": null,
   "id": "05bc7aaf",
   "metadata": {},
   "outputs": [],
   "source": [
    "print(\"ksns\")"
   ]
  }
 ],
 "metadata": {
  "kernelspec": {
   "display_name": "Python 3 (ipykernel)",
   "language": "python",
   "name": "python3"
  },
  "language_info": {
   "codemirror_mode": {
    "name": "ipython",
    "version": 3
   },
   "file_extension": ".py",
   "mimetype": "text/x-python",
   "name": "python",
   "nbconvert_exporter": "python",
   "pygments_lexer": "ipython3",
   "version": "3.9.12"
  }
 },
 "nbformat": 4,
 "nbformat_minor": 5
}
